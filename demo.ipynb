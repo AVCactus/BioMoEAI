{
 "cells": [
  {
   "cell_type": "markdown",
   "metadata": {},
   "source": [
    "# Ensemble MoE Project Demo\n",
    "\n",
    "This notebook demonstrates how to use the ensemble model for inference."
   ]
  },
  {
   "cell_type": "code",
   "execution_count": null,
   "metadata": {},
   "outputs": [],
   "source": [
    "import torch\n",
    "from src.ensemble import TransformerEnsemble\n",
    "\n",
    "# Define expert model names (must match those used during training)\n",
    "model_names = [\n",
    "    \"bert-base-uncased\",\n",
    "    \"roberta-base\",\n",
    "    \"xlnet-base-cased\"\n",
    "]\n",
    "\n",
    "# Set device\n",
    "device = torch.device(\"cuda\" if torch.cuda.is_available() else \"cpu\")\n",
    "\n",
    "# Initialize ensemble model\n",
    "ensemble_model = TransformerEnsemble(model_names, device=device)\n",
    "ensemble_model.to(device)\n",
    "\n",
    "# Example input texts\n",
    "input_texts = [\n",
    "    \"This movie was fantastic!\",\n",
    "    \"The service was terrible.\"\n",
    "]\n",
    "\n",
    "# Run inference\n",
    "ensemble_model.eval()\n",
    "with torch.no_grad():\n",
    "    ensemble_logits, avg_logits = ensemble_model(input_texts)\n",
    "    predictions = torch.argmax(ensemble_logits, dim=1)\n",
    "    print(\"Predicted class labels:\", predictions.cpu().numpy())"
   ]
  }
 ],
 "metadata": {
  "kernelspec": {
   "display_name": "Python 3",
   "language": "python",
   "name": "python3"
  },
  "language_info": {
   "name": "python",
   "version": "3.x"
  }
 },
 "nbformat": 4,
 "nbformat_minor": 2
}
